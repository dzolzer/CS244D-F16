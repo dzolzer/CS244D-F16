{
 "cells": [
  {
   "cell_type": "markdown",
   "metadata": {},
   "source": [
    "### Weather Reduex"
   ]
  },
  {
   "cell_type": "code",
   "execution_count": 1,
   "metadata": {
    "collapsed": true
   },
   "outputs": [],
   "source": [
    "import csv\n",
    "from datetime import datetime\n",
    "from matplotlib import pyplot as pl"
   ]
  },
  {
   "cell_type": "code",
   "execution_count": 14,
   "metadata": {
    "collapsed": true
   },
   "outputs": [],
   "source": [
    "%matplotlib inline"
   ]
  },
  {
   "cell_type": "code",
   "execution_count": 7,
   "metadata": {
    "collapsed": false
   },
   "outputs": [
    {
     "name": "stdout",
     "output_type": "stream",
     "text": [
      "['1/1/2016', '36', '19', '2', '5', '0', '-5', '83', '50', '17', '30.62', '30.54', '30.45', '10', '10', '9', '10', '4', '12', '0', '0', '', '167<br />']\n",
      "['1/2/2016', '43', '26', '8', '9', '1', '-6', '62', '38', '13', '30.51', '30.43', '30.36', '10', '10', '10', '12', '3', '12', '0', '2', '', '151<br />']\n",
      "['1/3/2016', '48', '31', '14', '14', '9', '3', '64', '43', '21', '30.45', '30.35', '30.26', '10', '10', '10', '13', '5', '14', '0', '2', '', '155<br />']\n",
      "['1/4/2016', '51', '36', '21', '22', '15', '10', '69', '46', '22', '30.22', '30.11', '29.97', '10', '10', '10', '9', '4', '10', '0', '6', '', '156<br />']\n",
      "['1/5/2016', '46', '35', '24', '18', '15', '12', '68', '50', '31', '29.91', '29.87', '29.79', '10', '10', '10', '15', '5', '17', '0', '3', '', '275<br />']\n",
      "['1/6/2016', '45', '34', '23', '25', '20', '15', '78', '56', '33', '29.91', '29.81', '29.72', '10', '10', '10', '13', '6', '15', '0', '5', '', '168<br />']\n",
      "['1/7/2016', '34', '31', '27', '32', '29', '22', '100', '82', '63', '29.8', '29.72', '29.65', '10', '3', '0', '8', '2', '8', '0.09', '8', 'Fog-Snow', '25<br />']\n",
      "['1/8/2016', '30', '25', '20', '29', '20', '16', '100', '92', '84', '30.1', '29.91', '29.72', '8', '2', '0', '13', '6', '17', '0.1', '8', 'Fog-Snow', '31<br />']\n",
      "['1/9/2016', '27', '19', '10', '18', '16', '7', '91', '80', '68', '30.22', '30.12', '29.92', '10', '6', '3', '12', '3', '12', 'T', '4', 'Snow', '156<br />']\n",
      "['1/10/2016', '33', '19', '4', '14', '6', '1', '92', '61', '30', '30.25', '30.19', '30.09', '10', '9', '6', '15', '3', '23', '0', '1', '', '165<br />']\n",
      "['1/11/2016', '45', '28', '11', '16', '6', '-1', '68', '44', '20', '30.25', '30.13', '30.04', '10', '10', '10', '13', '4', '17', '0', '3', '', '191<br />']\n",
      "['1/12/2016', '48', '32', '16', '15', '7', '-2', '58', '37', '15', '30.26', '30.16', '30.02', '10', '10', '10', '15', '7', '20', '0', '5', '', '149<br />']\n",
      "['1/13/2016', '52', '37', '21', '23', '16', '10', '65', '47', '28', '30.12', '29.95', '29.71', '10', '10', '10', '18', '7', '23', '0', '5', '', '189<br />']\n",
      "['1/14/2016', '43', '34', '24', '12', '9', '3', '55', '39', '22', '29.78', '29.71', '29.63', '10', '10', '10', '31', '12', '42', '0', '2', '', '270<br />']\n",
      "['1/15/2016', '33', '24', '15', '18', '12', '6', '77', '57', '36', '30.03', '29.84', '29.75', '10', '10', '10', '20', '8', '24', '0', '5', '', '141<br />']\n",
      "['1/16/2016', '35', '24', '12', '15', '9', '3', '88', '57', '26', '30.15', '30.02', '29.93', '10', '10', '10', '20', '7', '27', '0', '4', '', '200<br />']\n",
      "['1/17/2016', '44', '30', '15', '17', '13', '11', '74', '53', '31', '30.17', '30.07', '29.95', '10', '10', '10', '31', '6', '37', '0', '3', '', '289<br />']\n",
      "['1/18/2016', '51', '37', '22', '23', '18', '12', '65', '46', '27', '30.1', '29.97', '29.88', '10', '10', '10', '13', '6', '14', '0', '5', '', '144<br />']\n",
      "['1/19/2016', '40', '35', '29', '31', '26', '19', '100', '72', '44', '30.25', '30.1', '29.92', '10', '6', '1', '18', '9', '24', '0.01', '7', 'Snow', '360<br />']\n",
      "['1/20/2016', '48', '39', '29', '20', '15', '10', '59', '42', '25', '30.14', '29.92', '29.75', '10', '10', '10', '25', '10', '35', '0', '6', '', '288<br />']\n",
      "['1/21/2016', '39', '31', '22', '17', '13', '10', '77', '55', '32', '30.39', '30.31', '30.14', '10', '10', '10', '20', '8', '23', '0', '3', '', '348<br />']\n",
      "['1/22/2016', '52', '37', '22', '28', '21', '12', '71', '52', '33', '30.35', '30.2', '30', '10', '10', '2', '14', '7', '18', '0', '3', '', '165<br />']\n",
      "['1/23/2016', '57', '45', '32', '23', '19', '11', '64', '40', '16', '30.03', '29.9', '29.75', '10', '10', '10', '15', '6', '19', '0', '6', '', '160<br />']\n",
      "['1/24/2016', '50', '40', '29', '28', '19', '8', '92', '55', '18', '29.82', '29.69', '29.58', '10', '10', '10', '24', '9', '29', '0', '6', '', '295<br />']\n",
      "['1/25/2016', '36', '28', '19', '26', '22', '17', '92', '72', '52', '30.3', '30.08', '29.83', '10', '7', '1', '18', '7', '27', 'T', '6', 'Snow', '46<br />']\n",
      "['1/26/2016', '41', '28', '15', '16', '11', '6', '91', '58', '25', '30.4', '30.32', '30.25', '10', '10', '10', '13', '7', '16', '0', '1', '', '174<br />']\n",
      "['1/27/2016', '51', '37', '23', '25', '19', '12', '69', '51', '32', '30.29', '30.24', '30.2', '10', '10', '10', '13', '7', '18', '0', '1', '', '153<br />']\n",
      "['1/28/2016', '57', '41', '25', '23', '20', '18', '75', '49', '22', '30.28', '30.08', '29.86', '10', '10', '10', '13', '6', '16', '0', '1', '', '169<br />']\n",
      "['1/29/2016', '56', '47', '37', '20', '15', '9', '52', '34', '15', '29.86', '29.75', '29.61', '10', '10', '10', '26', '12', '37', '0', '4', '', '243<br />']\n",
      "['1/30/2016', '65', '47', '28', '32', '26', '18', '92', '57', '22', '29.72', '29.6', '29.38', '10', '7', '1', '21', '8', '27', '0.07', '7', 'Snow', '116<br />']\n",
      "['1/31/2016', '32', '28', '24', '27', '22', '17', '92', '75', '58', '29.98', '29.87', '29.68', '10', '6', '1', '14', '6', '17', '0.03', '8', 'Snow', '125<br />']\n",
      "['2/1/2016', '27', '24', '20', '24', '22', '18', '100', '91', '81', '29.82', '29.63', '29.48', '10', '3', '0', '17', '9', '21', '0.16', '8', 'Fog-Snow', '351<br />']\n",
      "['2/2/2016', '21', '15', '9', '19', '15', '7', '100', '87', '73', '30.18', '29.9', '29.63', '10', '3', '0', '24', '15', '30', '0.01', '8', 'Fog-Snow', '343<br />']\n",
      "['2/3/2016', '24', '12', '-1', '6', '-2', '-7', '87', '58', '29', '30.41', '30.31', '30.17', '10', '10', '10', '22', '8', '26', '0', '3', '', '264<br />']\n",
      "['2/4/2016', '36', '22', '7', '15', '6', '-7', '65', '52', '38', '30.35', '30.29', '30.2', '10', '10', '10', '16', '10', '20', '0', '5', '', '179<br />']\n",
      "['2/5/2016', '35', '25', '14', '16', '8', '4', '77', '52', '27', '30.46', '30.39', '30.27', '10', '10', '10', '13', '4', '14', '0', '3', '', '194<br />']\n",
      "['2/6/2016', '50', '33', '16', '19', '12', '3', '57', '39', '20', '30.37', '30.25', '30.09', '10', '10', '10', '15', '7', '', '0', '4', '', '233<br />']\n",
      "['2/7/2016', '46', '33', '19', '21', '15', '5', '91', '54', '17', '30.53', '30.31', '30.09', '10', '10', '10', '23', '13', '32', '0', '4', '', '94<br />']\n",
      "['2/8/2016', '43', '30', '17', '23', '19', '13', '84', '64', '43', '30.54', '30.46', '30.37', '10', '10', '10', '20', '9', '23', '0', '4', '', '147<br />']\n",
      "['2/9/2016', '53', '38', '23', '22', '18', '13', '69', '47', '24', '30.41', '30.35', '30.25', '10', '10', '10', '16', '8', '19', '0', '0', '', '158<br />']\n",
      "['2/10/2016', '65', '49', '33', '16', '12', '7', '35', '23', '11', '30.22', '30.14', '30.01', '10', '10', '10', '22', '12', '27', '0', '2', '', '265<br />']\n",
      "['2/11/2016', '64', '48', '32', '27', '20', '12', '59', '38', '16', '30.29', '30.16', '30.06', '10', '10', '10', '23', '9', '31', '0', '4', '', '198<br />']\n",
      "['2/12/2016', '60', '46', '31', '34', '29', '24', '76', '55', '33', '30.31', '30.24', '30.15', '10', '10', '10', '17', '7', '21', '0', '3', '', '50<br />']\n",
      "['2/13/2016', '66', '48', '29', '31', '20', '6', '89', '50', '11', '30.14', '29.99', '29.87', '10', '10', '10', '26', '5', '38', '0', '5', '', '125<br />']\n",
      "['2/14/2016', '54', '42', '29', '28', '22', '16', '85', '55', '24', '30.03', '29.93', '29.82', '10', '10', '10', '31', '11', '37', '0', '5', '', '129<br />']\n",
      "['2/15/2016', '58', '43', '27', '24', '22', '19', '85', '55', '24', '30.01', '29.87', '29.76', '10', '10', '10', '33', '11', '47', '0', '4', '', '290<br />']\n",
      "['2/16/2016', '54', '41', '28', '32', '26', '20', '89', '64', '38', '30.08', '30.01', '29.9', '10', '10', '10', '26', '11', '35', '0', '4', '', '151<br />']\n",
      "['2/17/2016', '68', '49', '30', '25', '19', '10', '52', '35', '17', '30.08', '29.9', '29.62', '10', '10', '10', '24', '12', '29', '0', '4', '', '163<br />']\n",
      "['2/18/2016', '69', '55', '41', '32', '20', '9', '67', '42', '16', '29.8', '29.56', '29.41', '10', '10', '10', '39', '20', '48', 'T', '3', '', '232<br />']\n",
      "['2/19/2016', '66', '52', '37', '18', '5', '-6', '51', '29', '7', '29.94', '29.88', '29.79', '10', '10', '10', '30', '14', '38', '0', '3', '', '242<br />']\n",
      "['2/20/2016', '64', '49', '34', '24', '16', '-1', '59', '34', '9', '30.13', '29.99', '29.88', '10', '10', '10', '26', '9', '35', '0', '2', '', '132<br />']\n",
      "['2/21/2016', '47', '36', '25', '24', '19', '15', '69', '52', '34', '30.39', '30.24', '30.1', '10', '10', '10', '16', '10', '23', '0', '3', '', '148<br />']\n",
      "['2/22/2016', '50', '38', '25', '31', '23', '15', '92', '59', '26', '30.09', '30', '29.87', '10', '9', '2', '20', '5', '25', 'T', '7', 'Snow', '360<br />']\n",
      "['2/23/2016', '39', '32', '25', '29', '21', '9', '100', '65', '29', '30.35', '30.2', '30.05', '10', '6', '0', '18', '10', '23', '0.01', '6', 'Fog-Snow', '343<br />']\n",
      "['2/24/2016', '49', '36', '23', '11', '6', '-3', '55', '34', '13', '30.3', '30.21', '30.11', '10', '10', '10', '18', '8', '22', '0', '1', '', '130<br />']\n",
      "['2/25/2016', '49', '34', '18', '16', '12', '9', '62', '43', '23', '30.43', '30.33', '30.24', '10', '10', '10', '13', '5', '16', '0', '1', '', '156<br />']\n",
      "['2/26/2016', '61', '43', '24', '23', '16', '1', '68', '39', '9', '30.36', '30.21', '30.06', '10', '10', '10', '18', '6', '23', '0', '1', '', '162<br />']\n",
      "['2/27/2016', '68', '48', '28', '22', '13', '7', '47', '29', '10', '30.05', '29.86', '29.71', '10', '10', '10', '30', '7', '39', '0', '2', '', '243<br />']\n",
      "['2/28/2016', '60', '49', '37', '17', '13', '7', '37', '24', '11', '30.02', '29.95', '29.82', '10', '10', '10', '30', '14', '39', '0', '2', '', '82<br />']\n",
      "['2/29/2016', '61', '46', '30', '30', '16', '7', '69', '41', '12', '30.09', '29.91', '29.81', '10', '10', '10', '29', '9', '35', '0', '5', '', '286<br />']\n",
      "['3/1/2016', '55', '41', '26', '20', '13', '8', '72', '45', '17', '30.22', '30.09', '29.93', '10', '10', '10', '17', '7', '21', '0', '5', '', '136<br />']\n",
      "['3/2/2016', '59', '48', '36', '31', '16', '6', '53', '34', '14', '30.01', '29.87', '29.78', '10', '10', '10', '39', '12', '49', 'T', '3', '', '297<br />']\n",
      "['3/3/2016', '61', '44', '26', '22', '18', '10', '69', '42', '14', '30.16', '30.06', '29.98', '10', '10', '10', '25', '10', '33', '0', '5', '', '153<br />']\n",
      "['3/4/2016', '61', '46', '30', '26', '19', '11', '55', '35', '14', '30.19', '30.07', '29.95', '10', '10', '10', '17', '7', '23', '0', '5', '', '136<br />']\n",
      "['3/5/2016', '64', '51', '37', '26', '22', '13', '59', '38', '17', '30.16', '29.95', '29.78', '10', '10', '10', '25', '14', '36', '0', '4', '', '181<br />']\n",
      "['3/6/2016', '66', '50', '33', '28', '20', '13', '53', '35', '16', '29.8', '29.63', '29.48', '10', '10', '10', '17', '8', '25', '0', '4', '', '194<br />']\n",
      "['3/7/2016', '52', '42', '32', '36', '29', '17', '82', '54', '26', '29.77', '29.53', '29.39', '10', '8', '0', '28', '13', '34', '0.17', '5', 'Fog-Rain-Snow', '238<br />']\n",
      "['3/8/2016', '47', '37', '26', '27', '24', '22', '85', '61', '37', '29.94', '29.89', '29.81', '10', '10', '10', '12', '4', '16', '0', '4', '', '113<br />']\n",
      "['3/9/2016', '55', '40', '24', '25', '18', '6', '81', '48', '15', '30.14', '29.97', '29.89', '10', '10', '10', '18', '6', '27', '0', '4', '', '44<br />']\n",
      "['3/10/2016', '65', '48', '30', '23', '19', '16', '66', '41', '16', '30.17', '30.11', '30.03', '10', '10', '10', '16', '9', '20', '0', '1', '', '148<br />']\n",
      "['3/11/2016', '73', '55', '36', '27', '20', '15', '52', '32', '12', '30.09', '29.95', '29.78', '10', '10', '10', '25', '10', '38', '0', '3', '', '166<br />']\n",
      "['3/12/2016', '63', '50', '37', '30', '26', '22', '59', '40', '21', '29.73', '29.64', '29.52', '10', '10', '10', '36', '11', '45', 'T', '6', '', '310<br />']\n",
      "['3/13/2016', '61', '49', '36', '22', '19', '15', '48', '33', '17', '29.8', '29.74', '29.68', '10', '10', '10', '18', '8', '22', '0', '5', '', '287<br />']\n",
      "['3/14/2016', '64', '51', '38', '30', '21', '11', '57', '35', '13', '29.81', '29.66', '29.52', '10', '10', '10', '36', '13', '46', 'T', '4', 'Rain', '272<br />']\n",
      "['3/15/2016', '45', '38', '30', '20', '10', '4', '56', '39', '21', '30.03', '29.94', '29.71', '10', '10', '10', '30', '12', '39', '0', '3', '', '321<br />']\n",
      "['3/16/2016', '47', '37', '27', '21', '11', '0', '69', '42', '15', '30.16', '30.07', '30', '10', '10', '10', '31', '10', '39', '0', '4', '', '284<br />']\n",
      "['3/17/2016', '37', '31', '24', '28', '21', '12', '100', '75', '49', '30.15', '30.04', '29.94', '10', '8', '1', '16', '9', '19', '0.12', '7', 'Snow', '12<br />']\n",
      "['3/18/2016', '28', '22', '16', '27', '18', '13', '100', '78', '55', '30.4', '30.23', '30.05', '10', '4', '1', '16', '6', '20', '0.04', '7', 'Snow', '63<br />']\n",
      "['3/19/2016', '34', '26', '17', '19', '12', '4', '92', '62', '31', '30.51', '30.42', '30.25', '10', '8', '3', '15', '5', '19', 'T', '4', 'Snow', '345<br />']\n",
      "['3/20/2016', '58', '38', '18', '19', '11', '4', '74', '43', '11', '30.45', '30.27', '30.07', '10', '10', '10', '15', '8', '19', '0', '0', '', '162<br />']\n",
      "['3/21/2016', '70', '55', '40', '21', '17', '11', '44', '27', '10', '30.06', '29.84', '29.68', '10', '10', '10', '16', '8', '19', '0', '5', '', '198<br />']\n",
      "['3/22/2016', '70', '56', '41', '29', '16', '6', '49', '30', '10', '29.65', '29.46', '29.33', '10', '10', '10', '35', '11', '45', '0', '5', '', '228<br />']\n",
      "['3/23/2016', '45', '33', '20', '36', '29', '20', '100', '81', '62', '30.21', '29.75', '29.38', '10', '4', '0', '41', '18', '53', '0.79', '7', 'Fog-Rain-Snow', '353<br />']\n",
      "['3/24/2016', '44', '30', '15', '26', '19', '12', '92', '63', '33', '30.21', '30.07', '29.87', '10', '10', '8', '14', '8', '16', '0', '4', '', '160<br />']\n",
      "['3/25/2016', '47', '36', '25', '30', '25', '15', '100', '66', '31', '29.94', '29.84', '29.75', '10', '6', '1', '17', '8', '21', '0.05', '7', 'Snow', '153<br />']\n",
      "['3/26/2016', '30', '25', '19', '29', '21', '14', '92', '78', '63', '30.31', '30.09', '29.92', '10', '6', '1', '16', '7', '24', '0.04', '7', 'Snow', '48<br />']\n",
      "['3/27/2016', '46', '32', '18', '25', '15', '7', '68', '48', '27', '30.27', '30.15', '29.98', '10', '10', '10', '16', '10', '20', '0', '1', '', '185<br />']\n",
      "['3/28/2016', '58', '44', '30', '28', '21', '16', '63', '44', '24', '29.96', '29.78', '29.61', '10', '10', '10', '24', '9', '29', '0', '5', '', '167<br />']\n",
      "['3/29/2016', '56', '47', '37', '38', '33', '27', '92', '67', '42', '29.64', '29.56', '29.43', '10', '10', '10', '24', '8', '28', '0.01', '6', 'Rain-Thunderstorm', '325<br />']\n",
      "['3/30/2016', '47', '36', '25', '35', '29', '15', '100', '66', '31', '29.91', '29.74', '29.63', '10', '7', '0', '29', '10', '35', '0.07', '7', 'Fog-Rain-Snow', '8<br />']\n",
      "['3/31/2016', '39', '32', '25', '30', '25', '19', '92', '70', '48', '30.11', '29.96', '29.85', '10', '6', '0', '18', '7', '25', '0.06', '6', 'Fog-Snow', '299<br />']\n"
     ]
    }
   ],
   "source": [
    "# read the input file\n",
    "reader = open(\"denver.csv\", \"r\")\n",
    "weather_data = csv.reader(reader)\n",
    "mydata = []\n",
    "for r in weather_data:\n",
    "    mydata.append(r)\n",
    "mydata = mydata[1:]\n",
    "\n",
    "# print out rows\n",
    "for row in mydata:\n",
    "    print(row)"
   ]
  },
  {
   "cell_type": "code",
   "execution_count": 8,
   "metadata": {
    "collapsed": true
   },
   "outputs": [],
   "source": [
    "def parse_temps(mydata):\n",
    "    myWeather = []\n",
    "    \n",
    "    for row in mydata:\n",
    "        date = datetime.strptime(row[0], \"%m/%d/%Y\")\n",
    "        max = int(row[1])\n",
    "        mean = int(row[2])\n",
    "        min = int(row[3])\n",
    "        \n",
    "        myWeather.append([date, max, mean, min])\n",
    "        \n",
    "    return myWeather"
   ]
  },
  {
   "cell_type": "code",
   "execution_count": 17,
   "metadata": {
    "collapsed": false
   },
   "outputs": [
    {
     "data": {
      "image/png": "[encoded data removed]",
      "text/plain": [
       "<matplotlib.figure.Figure at 0x7764070>"
      ]
     },
     "metadata": {},
     "output_type": "display_data"
    }
   ],
   "source": [
    "def extract_date(data):\n",
    "    dates = []\n",
    "    for d in data:\n",
    "        date = d[0]\n",
    "        dates.append(date.date)\n",
    "    return dates\n",
    "def extract_max(data):\n",
    "    max = []\n",
    "    for d in data:\n",
    "        max.append(d[1])\n",
    "        \n",
    "    return max\n",
    "\n",
    "def extract_mean(data):\n",
    "    mean = []\n",
    "    for d in data:\n",
    "        mean.append(d[2])\n",
    "        \n",
    "    return mean\n",
    "def extract_min(data):\n",
    "    min = []\n",
    "    for d in data:\n",
    "        min.append(d[3])\n",
    "        \n",
    "    return min\n",
    "\n",
    "def plot_temps(max):\n",
    "    pl.plot(max)\n",
    "\n",
    "reader = open(\"denver.csv\", \"r\")\n",
    "weather_data = csv.reader(reader)\n",
    "mydata = []\n",
    "for r in weather_data:\n",
    "    mydata.append(r)\n",
    "mydata = mydata[1:]\n",
    "myWeather = parse_temps(mydata)\n",
    "dates = extract_date(myWeather)\n",
    "max = extract_max(myWeather)\n",
    "mean = extract_mean(myWeather)\n",
    "min = extract_min(myWeather)\n",
    "plot_temps(max)\n"
   ]
  },
  {
   "cell_type": "code",
   "execution_count": null,
   "metadata": {
    "collapsed": true
   },
   "outputs": [],
   "source": []
  }
 ],
 "metadata": {
  "anaconda-cloud": {},
  "kernelspec": {
   "display_name": "Python [Root]",
   "language": "python",
   "name": "Python [Root]"
  },
  "language_info": {
   "codemirror_mode": {
    "name": "ipython",
    "version": 3
   },
   "file_extension": ".py",
   "mimetype": "text/x-python",
   "name": "python",
   "nbconvert_exporter": "python",
   "pygments_lexer": "ipython3",
   "version": "3.5.2"
  }
 },
 "nbformat": 4,
 "nbformat_minor": 0
}
